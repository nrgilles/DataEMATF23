{
 "cells": [
  {
   "attachments": {},
   "cell_type": "markdown",
   "id": "0dfc1910",
   "metadata": {},
   "source": [
    "## Data in Emerging Media and Technology\n",
    "### What I want from this class\n",
    "1. _Want to be able to take data from websites and games I use and be able to use it and organize it_\n",
    "2. __I want to learn more about coding, specifically with websites and data, more than what we did in creative coding.__\n",
    "\n",
    "![](https://i.pinimg.com/1200x/3f/60/36/3f60361f2d357cbbd7a4d098fc9178b4.jpg)"
   ]
  }
 ],
 "metadata": {
  "kernelspec": {
   "display_name": "Python 3 (ipykernel)",
   "language": "python",
   "name": "python3"
  },
  "language_info": {
   "codemirror_mode": {
    "name": "ipython",
    "version": 3
   },
   "file_extension": ".py",
   "mimetype": "text/x-python",
   "name": "python",
   "nbconvert_exporter": "python",
   "pygments_lexer": "ipython3",
   "version": "3.11.4"
  }
 },
 "nbformat": 4,
 "nbformat_minor": 5
}
