{
 "cells": [
  {
   "cell_type": "markdown",
   "id": "d16a34d6",
   "metadata": {},
   "source": [
    "# Collecting from the Spotify API #\n",
    "Starting off, I called in the proper tools to help with getting in to the Spotify API."
   ]
  },
  {
   "cell_type": "code",
   "execution_count": 31,
   "id": "ff9b152e",
   "metadata": {},
   "outputs": [],
   "source": [
    "import requests\n",
    "import pandas as pd\n",
    "import base64\n",
    "import json\n",
    "import urllib"
   ]
  },
  {
   "cell_type": "code",
   "execution_count": 32,
   "id": "46c1ab8e",
   "metadata": {},
   "outputs": [],
   "source": [
    "Client_ID = pd.read_csv('SpotifyKeys20230919.txt')['Client_ID'].iloc[0]"
   ]
  },
  {
   "cell_type": "code",
   "execution_count": 33,
   "id": "cb5f464e",
   "metadata": {},
   "outputs": [],
   "source": [
    "Client_Secret = pd.read_csv('SpotifyKeys20230919.txt')['Client_Secret'].iloc[0]"
   ]
  },
  {
   "cell_type": "code",
   "execution_count": 34,
   "id": "7fb7cafd",
   "metadata": {},
   "outputs": [],
   "source": [
    "client_cred = base64.b64encode(str(Client_ID + \":\" + Client_Secret).encode(\"ascii\"))"
   ]
  },
  {
   "cell_type": "code",
   "execution_count": 35,
   "id": "7e76d64a",
   "metadata": {},
   "outputs": [],
   "source": [
    "headers = {\"Authorization\": \"Basic {}\".format(client_cred.decode(\"ascii\"))}"
   ]
  },
  {
   "cell_type": "code",
   "execution_count": 36,
   "id": "0329cd3d",
   "metadata": {},
   "outputs": [],
   "source": [
    "payload = {'grant_type' : 'client_credentials'}\n",
    "url = 'https://accounts.spotify.com/api/token'"
   ]
  },
  {
   "cell_type": "code",
   "execution_count": 37,
   "id": "ebf86efe",
   "metadata": {},
   "outputs": [],
   "source": [
    "session_key_response = requests.post(url = url, data = payload, headers = headers)"
   ]
  },
  {
   "cell_type": "code",
   "execution_count": 38,
   "id": "f8ec7dde",
   "metadata": {},
   "outputs": [
    {
     "data": {
      "text/plain": [
       "200"
      ]
     },
     "execution_count": 38,
     "metadata": {},
     "output_type": "execute_result"
    }
   ],
   "source": [
    "session_key_response.status_code"
   ]
  },
  {
   "cell_type": "code",
   "execution_count": 39,
   "id": "44a4bd1b",
   "metadata": {},
   "outputs": [],
   "source": [
    "session_header_key = session_key_response.json()"
   ]
  },
  {
   "cell_type": "code",
   "execution_count": 40,
   "id": "fc2b37b1",
   "metadata": {},
   "outputs": [],
   "source": [
    "key = session_header_key['access_token']"
   ]
  },
  {
   "cell_type": "code",
   "execution_count": 41,
   "id": "d65d5f6c",
   "metadata": {},
   "outputs": [],
   "source": [
    "session_headers = {\"Authorization\": \"Bearer {}\".format(key)}"
   ]
  },
  {
   "cell_type": "markdown",
   "id": "47e183d6",
   "metadata": {},
   "source": [
    "### Calling the correct IDs ###\n",
    "Now that I have gotten into the API, I can now use the proper IDs to gather the albums I want to use."
   ]
  },
  {
   "cell_type": "code",
   "execution_count": 42,
   "id": "0346f805",
   "metadata": {},
   "outputs": [],
   "source": [
    "PFTW_id = '6ApYSpXF8GxZAgBTHDzYge'"
   ]
  },
  {
   "cell_type": "code",
   "execution_count": 43,
   "id": "dd791fd7",
   "metadata": {},
   "outputs": [],
   "source": [
    "PFTW_album_url = 'https://api.spotify.com/v1/albums/{}/tracks'.format(PFTW_id)"
   ]
  },
  {
   "cell_type": "code",
   "execution_count": 44,
   "id": "fc011073",
   "metadata": {},
   "outputs": [],
   "source": [
    "response_PFTW = requests.get(PFTW_album_url, headers = session_headers)"
   ]
  },
  {
   "cell_type": "code",
   "execution_count": 45,
   "id": "e860b2ed",
   "metadata": {},
   "outputs": [],
   "source": [
    "data_PFTW = json.loads(response_PFTW.text)"
   ]
  },
  {
   "cell_type": "code",
   "execution_count": 46,
   "id": "6991a276",
   "metadata": {},
   "outputs": [
    {
     "data": {
      "text/plain": [
       "dict_keys(['href', 'items', 'limit', 'next', 'offset', 'previous', 'total'])"
      ]
     },
     "execution_count": 46,
     "metadata": {},
     "output_type": "execute_result"
    }
   ],
   "source": [
    "data_PFTW.keys()"
   ]
  },
  {
   "cell_type": "code",
   "execution_count": 47,
   "id": "aa8cf77e",
   "metadata": {},
   "outputs": [
    {
     "data": {
      "text/plain": [
       "dict_keys(['artists', 'available_markets', 'disc_number', 'duration_ms', 'explicit', 'external_urls', 'href', 'id', 'is_local', 'name', 'preview_url', 'track_number', 'type', 'uri'])"
      ]
     },
     "execution_count": 47,
     "metadata": {},
     "output_type": "execute_result"
    }
   ],
   "source": [
    "data_PFTW['items'][0].keys()"
   ]
  },
  {
   "cell_type": "code",
   "execution_count": 48,
   "id": "2bfd61b5",
   "metadata": {},
   "outputs": [],
   "source": [
    "PFTW_track_ids = [x['id'] for x in data_PFTW['items']]"
   ]
  },
  {
   "cell_type": "code",
   "execution_count": 49,
   "id": "6eaa462d",
   "metadata": {},
   "outputs": [
    {
     "data": {
      "text/plain": [
       "['3BDxv4ORzOpXAsa4lWVl4i',\n",
       " '76vMKwFtdDDCLcM6zXybjB',\n",
       " '22oEJW6r2rMb9z4IntfyEa',\n",
       " '1rqqCSm0Qe4I9rUvWncaom',\n",
       " '0wdV94AXGRphrbkDWLNzVC',\n",
       " '6PFoEnjp0PAe5siGswjH9i',\n",
       " '5trCWbYtza0QUxdmF9HAPX',\n",
       " '4hUR3thIs01mQUtVmZFJ8F',\n",
       " '50Hv5NZIM0puIUoBttjpfb',\n",
       " '18ULKfQl3KpCnklAKFfO2t',\n",
       " '18xmRkPWE0sGUzFyNNAAhN']"
      ]
     },
     "execution_count": 49,
     "metadata": {},
     "output_type": "execute_result"
    }
   ],
   "source": [
    "PFTW_track_ids"
   ]
  },
  {
   "cell_type": "code",
   "execution_count": 50,
   "id": "7dde8388",
   "metadata": {
    "scrolled": true
   },
   "outputs": [
    {
     "data": {
      "text/plain": [
       "'3BDxv4ORzOpXAsa4lWVl4i,76vMKwFtdDDCLcM6zXybjB,22oEJW6r2rMb9z4IntfyEa,1rqqCSm0Qe4I9rUvWncaom,0wdV94AXGRphrbkDWLNzVC,6PFoEnjp0PAe5siGswjH9i,5trCWbYtza0QUxdmF9HAPX,4hUR3thIs01mQUtVmZFJ8F,50Hv5NZIM0puIUoBttjpfb,18ULKfQl3KpCnklAKFfO2t,18xmRkPWE0sGUzFyNNAAhN'"
      ]
     },
     "execution_count": 50,
     "metadata": {},
     "output_type": "execute_result"
    }
   ],
   "source": [
    "PFTW_track_strings = ','.join(str(x) for x in PFTW_track_ids)\n",
    "PFTW_track_strings"
   ]
  },
  {
   "cell_type": "markdown",
   "id": "8b4c3a77",
   "metadata": {},
   "source": [
    "Now with a string of all the song IDs, I can match it to the features for each and create a dataframe for them."
   ]
  },
  {
   "cell_type": "code",
   "execution_count": 51,
   "id": "24bb83d5",
   "metadata": {},
   "outputs": [],
   "source": [
    "track_features_endpoint = \"https://api.spotify.com/v1/audio-features?ids={}\".format(PFTW_track_strings)\n"
   ]
  },
  {
   "cell_type": "code",
   "execution_count": 52,
   "id": "d6d9c6e5",
   "metadata": {},
   "outputs": [],
   "source": [
    "PFTW_features = requests.get(track_features_endpoint, headers = session_headers)\n"
   ]
  },
  {
   "cell_type": "code",
   "execution_count": 53,
   "id": "e692c07c",
   "metadata": {},
   "outputs": [
    {
     "data": {
      "text/plain": [
       "200"
      ]
     },
     "execution_count": 53,
     "metadata": {},
     "output_type": "execute_result"
    }
   ],
   "source": [
    "PFTW_features.status_code"
   ]
  },
  {
   "cell_type": "code",
   "execution_count": 54,
   "id": "287484a7",
   "metadata": {},
   "outputs": [],
   "source": [
    "PFTW_dict = json.loads(PFTW_features.text)"
   ]
  },
  {
   "cell_type": "code",
   "execution_count": 55,
   "id": "e14eabbc",
   "metadata": {},
   "outputs": [
    {
     "data": {
      "text/plain": [
       "{'danceability': 0.577,\n",
       " 'energy': 0.939,\n",
       " 'key': 1,\n",
       " 'loudness': -1.352,\n",
       " 'mode': 0,\n",
       " 'speechiness': 0.108,\n",
       " 'acousticness': 0.0272,\n",
       " 'instrumentalness': 0,\n",
       " 'liveness': 0.24,\n",
       " 'valence': 0.714,\n",
       " 'tempo': 105.092,\n",
       " 'type': 'audio_features',\n",
       " 'id': '3BDxv4ORzOpXAsa4lWVl4i',\n",
       " 'uri': 'spotify:track:3BDxv4ORzOpXAsa4lWVl4i',\n",
       " 'track_href': 'https://api.spotify.com/v1/tracks/3BDxv4ORzOpXAsa4lWVl4i',\n",
       " 'analysis_url': 'https://api.spotify.com/v1/audio-analysis/3BDxv4ORzOpXAsa4lWVl4i',\n",
       " 'duration_ms': 168613,\n",
       " 'time_signature': 4}"
      ]
     },
     "execution_count": 55,
     "metadata": {},
     "output_type": "execute_result"
    }
   ],
   "source": [
    "PFTW_dict['audio_features'][0]"
   ]
  },
  {
   "cell_type": "code",
   "execution_count": 56,
   "id": "9c458471",
   "metadata": {
    "scrolled": true
   },
   "outputs": [
    {
     "data": {
      "text/html": [
       "<div>\n",
       "<style scoped>\n",
       "    .dataframe tbody tr th:only-of-type {\n",
       "        vertical-align: middle;\n",
       "    }\n",
       "\n",
       "    .dataframe tbody tr th {\n",
       "        vertical-align: top;\n",
       "    }\n",
       "\n",
       "    .dataframe thead th {\n",
       "        text-align: right;\n",
       "    }\n",
       "</style>\n",
       "<table border=\"1\" class=\"dataframe\">\n",
       "  <thead>\n",
       "    <tr style=\"text-align: right;\">\n",
       "      <th></th>\n",
       "      <th>danceability</th>\n",
       "      <th>energy</th>\n",
       "      <th>key</th>\n",
       "      <th>loudness</th>\n",
       "      <th>mode</th>\n",
       "      <th>speechiness</th>\n",
       "      <th>acousticness</th>\n",
       "      <th>instrumentalness</th>\n",
       "      <th>liveness</th>\n",
       "      <th>valence</th>\n",
       "      <th>tempo</th>\n",
       "      <th>type</th>\n",
       "      <th>id</th>\n",
       "      <th>uri</th>\n",
       "      <th>track_href</th>\n",
       "      <th>analysis_url</th>\n",
       "      <th>duration_ms</th>\n",
       "      <th>time_signature</th>\n",
       "    </tr>\n",
       "  </thead>\n",
       "  <tbody>\n",
       "    <tr>\n",
       "      <th>0</th>\n",
       "      <td>0.577</td>\n",
       "      <td>0.939</td>\n",
       "      <td>1</td>\n",
       "      <td>-1.352</td>\n",
       "      <td>0</td>\n",
       "      <td>0.1080</td>\n",
       "      <td>0.0272</td>\n",
       "      <td>0.000000</td>\n",
       "      <td>0.2400</td>\n",
       "      <td>0.714</td>\n",
       "      <td>105.092</td>\n",
       "      <td>audio_features</td>\n",
       "      <td>3BDxv4ORzOpXAsa4lWVl4i</td>\n",
       "      <td>spotify:track:3BDxv4ORzOpXAsa4lWVl4i</td>\n",
       "      <td>https://api.spotify.com/v1/tracks/3BDxv4ORzOpX...</td>\n",
       "      <td>https://api.spotify.com/v1/audio-analysis/3BDx...</td>\n",
       "      <td>168613</td>\n",
       "      <td>4</td>\n",
       "    </tr>\n",
       "    <tr>\n",
       "      <th>1</th>\n",
       "      <td>0.491</td>\n",
       "      <td>0.867</td>\n",
       "      <td>6</td>\n",
       "      <td>-2.313</td>\n",
       "      <td>0</td>\n",
       "      <td>0.1030</td>\n",
       "      <td>0.1670</td>\n",
       "      <td>0.000000</td>\n",
       "      <td>0.4580</td>\n",
       "      <td>0.602</td>\n",
       "      <td>167.965</td>\n",
       "      <td>audio_features</td>\n",
       "      <td>76vMKwFtdDDCLcM6zXybjB</td>\n",
       "      <td>spotify:track:76vMKwFtdDDCLcM6zXybjB</td>\n",
       "      <td>https://api.spotify.com/v1/tracks/76vMKwFtdDDC...</td>\n",
       "      <td>https://api.spotify.com/v1/audio-analysis/76vM...</td>\n",
       "      <td>189187</td>\n",
       "      <td>4</td>\n",
       "    </tr>\n",
       "    <tr>\n",
       "      <th>2</th>\n",
       "      <td>0.577</td>\n",
       "      <td>0.833</td>\n",
       "      <td>5</td>\n",
       "      <td>-3.337</td>\n",
       "      <td>1</td>\n",
       "      <td>0.0695</td>\n",
       "      <td>0.0137</td>\n",
       "      <td>0.000000</td>\n",
       "      <td>0.1210</td>\n",
       "      <td>0.580</td>\n",
       "      <td>107.936</td>\n",
       "      <td>audio_features</td>\n",
       "      <td>22oEJW6r2rMb9z4IntfyEa</td>\n",
       "      <td>spotify:track:22oEJW6r2rMb9z4IntfyEa</td>\n",
       "      <td>https://api.spotify.com/v1/tracks/22oEJW6r2rMb...</td>\n",
       "      <td>https://api.spotify.com/v1/audio-analysis/22oE...</td>\n",
       "      <td>169667</td>\n",
       "      <td>4</td>\n",
       "    </tr>\n",
       "    <tr>\n",
       "      <th>3</th>\n",
       "      <td>0.579</td>\n",
       "      <td>0.904</td>\n",
       "      <td>5</td>\n",
       "      <td>-2.729</td>\n",
       "      <td>1</td>\n",
       "      <td>0.0618</td>\n",
       "      <td>0.1930</td>\n",
       "      <td>0.000000</td>\n",
       "      <td>0.0640</td>\n",
       "      <td>0.681</td>\n",
       "      <td>82.014</td>\n",
       "      <td>audio_features</td>\n",
       "      <td>1rqqCSm0Qe4I9rUvWncaom</td>\n",
       "      <td>spotify:track:1rqqCSm0Qe4I9rUvWncaom</td>\n",
       "      <td>https://api.spotify.com/v1/tracks/1rqqCSm0Qe4I...</td>\n",
       "      <td>https://api.spotify.com/v1/audio-analysis/1rqq...</td>\n",
       "      <td>190947</td>\n",
       "      <td>4</td>\n",
       "    </tr>\n",
       "    <tr>\n",
       "      <th>4</th>\n",
       "      <td>0.271</td>\n",
       "      <td>0.948</td>\n",
       "      <td>1</td>\n",
       "      <td>-2.207</td>\n",
       "      <td>1</td>\n",
       "      <td>0.2630</td>\n",
       "      <td>0.0467</td>\n",
       "      <td>0.000000</td>\n",
       "      <td>0.1630</td>\n",
       "      <td>0.515</td>\n",
       "      <td>83.190</td>\n",
       "      <td>audio_features</td>\n",
       "      <td>0wdV94AXGRphrbkDWLNzVC</td>\n",
       "      <td>spotify:track:0wdV94AXGRphrbkDWLNzVC</td>\n",
       "      <td>https://api.spotify.com/v1/tracks/0wdV94AXGRph...</td>\n",
       "      <td>https://api.spotify.com/v1/audio-analysis/0wdV...</td>\n",
       "      <td>186600</td>\n",
       "      <td>4</td>\n",
       "    </tr>\n",
       "    <tr>\n",
       "      <th>5</th>\n",
       "      <td>0.526</td>\n",
       "      <td>0.891</td>\n",
       "      <td>6</td>\n",
       "      <td>-1.549</td>\n",
       "      <td>1</td>\n",
       "      <td>0.0482</td>\n",
       "      <td>0.0375</td>\n",
       "      <td>0.000000</td>\n",
       "      <td>0.3750</td>\n",
       "      <td>0.804</td>\n",
       "      <td>94.095</td>\n",
       "      <td>audio_features</td>\n",
       "      <td>6PFoEnjp0PAe5siGswjH9i</td>\n",
       "      <td>spotify:track:6PFoEnjp0PAe5siGswjH9i</td>\n",
       "      <td>https://api.spotify.com/v1/tracks/6PFoEnjp0PAe...</td>\n",
       "      <td>https://api.spotify.com/v1/audio-analysis/6PFo...</td>\n",
       "      <td>219467</td>\n",
       "      <td>4</td>\n",
       "    </tr>\n",
       "    <tr>\n",
       "      <th>6</th>\n",
       "      <td>0.424</td>\n",
       "      <td>0.892</td>\n",
       "      <td>8</td>\n",
       "      <td>-3.780</td>\n",
       "      <td>0</td>\n",
       "      <td>0.1930</td>\n",
       "      <td>0.0426</td>\n",
       "      <td>0.000000</td>\n",
       "      <td>0.7110</td>\n",
       "      <td>0.762</td>\n",
       "      <td>174.008</td>\n",
       "      <td>audio_features</td>\n",
       "      <td>5trCWbYtza0QUxdmF9HAPX</td>\n",
       "      <td>spotify:track:5trCWbYtza0QUxdmF9HAPX</td>\n",
       "      <td>https://api.spotify.com/v1/tracks/5trCWbYtza0Q...</td>\n",
       "      <td>https://api.spotify.com/v1/audio-analysis/5trC...</td>\n",
       "      <td>198947</td>\n",
       "      <td>4</td>\n",
       "    </tr>\n",
       "    <tr>\n",
       "      <th>7</th>\n",
       "      <td>0.517</td>\n",
       "      <td>0.955</td>\n",
       "      <td>10</td>\n",
       "      <td>-1.848</td>\n",
       "      <td>0</td>\n",
       "      <td>0.1670</td>\n",
       "      <td>0.0224</td>\n",
       "      <td>0.000000</td>\n",
       "      <td>0.3640</td>\n",
       "      <td>0.610</td>\n",
       "      <td>132.951</td>\n",
       "      <td>audio_features</td>\n",
       "      <td>4hUR3thIs01mQUtVmZFJ8F</td>\n",
       "      <td>spotify:track:4hUR3thIs01mQUtVmZFJ8F</td>\n",
       "      <td>https://api.spotify.com/v1/tracks/4hUR3thIs01m...</td>\n",
       "      <td>https://api.spotify.com/v1/audio-analysis/4hUR...</td>\n",
       "      <td>177800</td>\n",
       "      <td>4</td>\n",
       "    </tr>\n",
       "    <tr>\n",
       "      <th>8</th>\n",
       "      <td>0.285</td>\n",
       "      <td>0.922</td>\n",
       "      <td>2</td>\n",
       "      <td>-1.932</td>\n",
       "      <td>0</td>\n",
       "      <td>0.2470</td>\n",
       "      <td>0.2370</td>\n",
       "      <td>0.000000</td>\n",
       "      <td>0.1590</td>\n",
       "      <td>0.472</td>\n",
       "      <td>198.063</td>\n",
       "      <td>audio_features</td>\n",
       "      <td>50Hv5NZIM0puIUoBttjpfb</td>\n",
       "      <td>spotify:track:50Hv5NZIM0puIUoBttjpfb</td>\n",
       "      <td>https://api.spotify.com/v1/tracks/50Hv5NZIM0pu...</td>\n",
       "      <td>https://api.spotify.com/v1/audio-analysis/50Hv...</td>\n",
       "      <td>160747</td>\n",
       "      <td>3</td>\n",
       "    </tr>\n",
       "    <tr>\n",
       "      <th>9</th>\n",
       "      <td>0.520</td>\n",
       "      <td>0.878</td>\n",
       "      <td>6</td>\n",
       "      <td>-1.768</td>\n",
       "      <td>0</td>\n",
       "      <td>0.0616</td>\n",
       "      <td>0.0133</td>\n",
       "      <td>0.000000</td>\n",
       "      <td>0.0433</td>\n",
       "      <td>0.783</td>\n",
       "      <td>168.033</td>\n",
       "      <td>audio_features</td>\n",
       "      <td>18ULKfQl3KpCnklAKFfO2t</td>\n",
       "      <td>spotify:track:18ULKfQl3KpCnklAKFfO2t</td>\n",
       "      <td>https://api.spotify.com/v1/tracks/18ULKfQl3KpC...</td>\n",
       "      <td>https://api.spotify.com/v1/audio-analysis/18UL...</td>\n",
       "      <td>166733</td>\n",
       "      <td>4</td>\n",
       "    </tr>\n",
       "    <tr>\n",
       "      <th>10</th>\n",
       "      <td>0.346</td>\n",
       "      <td>0.350</td>\n",
       "      <td>2</td>\n",
       "      <td>-4.988</td>\n",
       "      <td>1</td>\n",
       "      <td>0.0328</td>\n",
       "      <td>0.8760</td>\n",
       "      <td>0.000002</td>\n",
       "      <td>0.0708</td>\n",
       "      <td>0.315</td>\n",
       "      <td>126.444</td>\n",
       "      <td>audio_features</td>\n",
       "      <td>18xmRkPWE0sGUzFyNNAAhN</td>\n",
       "      <td>spotify:track:18xmRkPWE0sGUzFyNNAAhN</td>\n",
       "      <td>https://api.spotify.com/v1/tracks/18xmRkPWE0sG...</td>\n",
       "      <td>https://api.spotify.com/v1/audio-analysis/18xm...</td>\n",
       "      <td>229053</td>\n",
       "      <td>4</td>\n",
       "    </tr>\n",
       "  </tbody>\n",
       "</table>\n",
       "</div>"
      ],
      "text/plain": [
       "    danceability  energy  key  loudness  mode  speechiness  acousticness  \\\n",
       "0          0.577   0.939    1    -1.352     0       0.1080        0.0272   \n",
       "1          0.491   0.867    6    -2.313     0       0.1030        0.1670   \n",
       "2          0.577   0.833    5    -3.337     1       0.0695        0.0137   \n",
       "3          0.579   0.904    5    -2.729     1       0.0618        0.1930   \n",
       "4          0.271   0.948    1    -2.207     1       0.2630        0.0467   \n",
       "5          0.526   0.891    6    -1.549     1       0.0482        0.0375   \n",
       "6          0.424   0.892    8    -3.780     0       0.1930        0.0426   \n",
       "7          0.517   0.955   10    -1.848     0       0.1670        0.0224   \n",
       "8          0.285   0.922    2    -1.932     0       0.2470        0.2370   \n",
       "9          0.520   0.878    6    -1.768     0       0.0616        0.0133   \n",
       "10         0.346   0.350    2    -4.988     1       0.0328        0.8760   \n",
       "\n",
       "    instrumentalness  liveness  valence    tempo            type  \\\n",
       "0           0.000000    0.2400    0.714  105.092  audio_features   \n",
       "1           0.000000    0.4580    0.602  167.965  audio_features   \n",
       "2           0.000000    0.1210    0.580  107.936  audio_features   \n",
       "3           0.000000    0.0640    0.681   82.014  audio_features   \n",
       "4           0.000000    0.1630    0.515   83.190  audio_features   \n",
       "5           0.000000    0.3750    0.804   94.095  audio_features   \n",
       "6           0.000000    0.7110    0.762  174.008  audio_features   \n",
       "7           0.000000    0.3640    0.610  132.951  audio_features   \n",
       "8           0.000000    0.1590    0.472  198.063  audio_features   \n",
       "9           0.000000    0.0433    0.783  168.033  audio_features   \n",
       "10          0.000002    0.0708    0.315  126.444  audio_features   \n",
       "\n",
       "                        id                                   uri  \\\n",
       "0   3BDxv4ORzOpXAsa4lWVl4i  spotify:track:3BDxv4ORzOpXAsa4lWVl4i   \n",
       "1   76vMKwFtdDDCLcM6zXybjB  spotify:track:76vMKwFtdDDCLcM6zXybjB   \n",
       "2   22oEJW6r2rMb9z4IntfyEa  spotify:track:22oEJW6r2rMb9z4IntfyEa   \n",
       "3   1rqqCSm0Qe4I9rUvWncaom  spotify:track:1rqqCSm0Qe4I9rUvWncaom   \n",
       "4   0wdV94AXGRphrbkDWLNzVC  spotify:track:0wdV94AXGRphrbkDWLNzVC   \n",
       "5   6PFoEnjp0PAe5siGswjH9i  spotify:track:6PFoEnjp0PAe5siGswjH9i   \n",
       "6   5trCWbYtza0QUxdmF9HAPX  spotify:track:5trCWbYtza0QUxdmF9HAPX   \n",
       "7   4hUR3thIs01mQUtVmZFJ8F  spotify:track:4hUR3thIs01mQUtVmZFJ8F   \n",
       "8   50Hv5NZIM0puIUoBttjpfb  spotify:track:50Hv5NZIM0puIUoBttjpfb   \n",
       "9   18ULKfQl3KpCnklAKFfO2t  spotify:track:18ULKfQl3KpCnklAKFfO2t   \n",
       "10  18xmRkPWE0sGUzFyNNAAhN  spotify:track:18xmRkPWE0sGUzFyNNAAhN   \n",
       "\n",
       "                                           track_href  \\\n",
       "0   https://api.spotify.com/v1/tracks/3BDxv4ORzOpX...   \n",
       "1   https://api.spotify.com/v1/tracks/76vMKwFtdDDC...   \n",
       "2   https://api.spotify.com/v1/tracks/22oEJW6r2rMb...   \n",
       "3   https://api.spotify.com/v1/tracks/1rqqCSm0Qe4I...   \n",
       "4   https://api.spotify.com/v1/tracks/0wdV94AXGRph...   \n",
       "5   https://api.spotify.com/v1/tracks/6PFoEnjp0PAe...   \n",
       "6   https://api.spotify.com/v1/tracks/5trCWbYtza0Q...   \n",
       "7   https://api.spotify.com/v1/tracks/4hUR3thIs01m...   \n",
       "8   https://api.spotify.com/v1/tracks/50Hv5NZIM0pu...   \n",
       "9   https://api.spotify.com/v1/tracks/18ULKfQl3KpC...   \n",
       "10  https://api.spotify.com/v1/tracks/18xmRkPWE0sG...   \n",
       "\n",
       "                                         analysis_url  duration_ms  \\\n",
       "0   https://api.spotify.com/v1/audio-analysis/3BDx...       168613   \n",
       "1   https://api.spotify.com/v1/audio-analysis/76vM...       189187   \n",
       "2   https://api.spotify.com/v1/audio-analysis/22oE...       169667   \n",
       "3   https://api.spotify.com/v1/audio-analysis/1rqq...       190947   \n",
       "4   https://api.spotify.com/v1/audio-analysis/0wdV...       186600   \n",
       "5   https://api.spotify.com/v1/audio-analysis/6PFo...       219467   \n",
       "6   https://api.spotify.com/v1/audio-analysis/5trC...       198947   \n",
       "7   https://api.spotify.com/v1/audio-analysis/4hUR...       177800   \n",
       "8   https://api.spotify.com/v1/audio-analysis/50Hv...       160747   \n",
       "9   https://api.spotify.com/v1/audio-analysis/18UL...       166733   \n",
       "10  https://api.spotify.com/v1/audio-analysis/18xm...       229053   \n",
       "\n",
       "    time_signature  \n",
       "0                4  \n",
       "1                4  \n",
       "2                4  \n",
       "3                4  \n",
       "4                4  \n",
       "5                4  \n",
       "6                4  \n",
       "7                4  \n",
       "8                3  \n",
       "9                4  \n",
       "10               4  "
      ]
     },
     "execution_count": 56,
     "metadata": {},
     "output_type": "execute_result"
    }
   ],
   "source": [
    "PFTW_df = pd.DataFrame(PFTW_dict['audio_features'])\n",
    "PFTW_df"
   ]
  },
  {
   "cell_type": "markdown",
   "id": "847666aa",
   "metadata": {},
   "source": [
    "I will do the same with the Neotheater album"
   ]
  },
  {
   "cell_type": "code",
   "execution_count": 57,
   "id": "0b369d1b",
   "metadata": {},
   "outputs": [
    {
     "name": "stdout",
     "output_type": "stream",
     "text": [
      "200\n",
      "5tVmNtMvCCABF6u2IyLLjX,7hBRNyuEkGR4qj5nTDGTry,17FK4etx1u2NK60cptINMS,61vlvG3pr4djrXPtHPdXII,4h1VLpsN8tl5J1c8nsrUCa,5MKfN1QC8ZWKeQGDFJSxaq,3HYgLawcb8IUGHHlHUQffN,3VygfAvvgVaJUeaBUSzlZu,4Z84bBOAu0dLVd2WimB3re,04gQHzS8FLPoNdnRKw4jDJ,4Dd0v2LBhMpqOwhmeU4yBJ,392snxgncTS2SKFgz64Lj3\n"
     ]
    }
   ],
   "source": [
    "Neo_id = '02tIakRsIFGW8sO4pBtJgj'\n",
    "album_tracks_endpoint = \"https://api.spotify.com/v1/albums/{}/tracks\".format(Neo_id)\n",
    "Neo_tracks = requests.get(album_tracks_endpoint, headers = session_headers)\n",
    "print(Neo_tracks.status_code)\n",
    "Neo_dict = json.loads(Neo_tracks.text)\n",
    "Neo_track_ids = [x['id'] for x in Neo_dict['items']]\n",
    "Neo_track_strings = ','.join(str(x) for x in Neo_track_ids)\n",
    "print(Neo_track_strings)\n",
    "track_features_endpoint = \"https://api.spotify.com/v1/audio-features?ids={}\".format(Neo_track_strings)"
   ]
  },
  {
   "cell_type": "code",
   "execution_count": 58,
   "id": "30654081",
   "metadata": {},
   "outputs": [
    {
     "data": {
      "text/plain": [
       "200"
      ]
     },
     "execution_count": 58,
     "metadata": {},
     "output_type": "execute_result"
    }
   ],
   "source": [
    "Neo_features = requests.get(track_features_endpoint, headers = session_headers)\n",
    "Neo_features.status_code"
   ]
  },
  {
   "cell_type": "code",
   "execution_count": 59,
   "id": "88116e30",
   "metadata": {},
   "outputs": [
    {
     "data": {
      "text/plain": [
       "{'danceability': 0.373,\n",
       " 'energy': 0.569,\n",
       " 'key': 10,\n",
       " 'loudness': -7.846,\n",
       " 'mode': 1,\n",
       " 'speechiness': 0.0515,\n",
       " 'acousticness': 0.205,\n",
       " 'instrumentalness': 4.19e-05,\n",
       " 'liveness': 0.377,\n",
       " 'valence': 0.274,\n",
       " 'tempo': 89.918,\n",
       " 'type': 'audio_features',\n",
       " 'id': '5tVmNtMvCCABF6u2IyLLjX',\n",
       " 'uri': 'spotify:track:5tVmNtMvCCABF6u2IyLLjX',\n",
       " 'track_href': 'https://api.spotify.com/v1/tracks/5tVmNtMvCCABF6u2IyLLjX',\n",
       " 'analysis_url': 'https://api.spotify.com/v1/audio-analysis/5tVmNtMvCCABF6u2IyLLjX',\n",
       " 'duration_ms': 256547,\n",
       " 'time_signature': 4}"
      ]
     },
     "execution_count": 59,
     "metadata": {},
     "output_type": "execute_result"
    }
   ],
   "source": [
    "Neo_dict = json.loads(Neo_features.text)\n",
    "Neo_dict['audio_features'][0]"
   ]
  },
  {
   "cell_type": "code",
   "execution_count": 60,
   "id": "0747d53d",
   "metadata": {},
   "outputs": [],
   "source": [
    "Neo_df = pd.DataFrame(Neo_dict['audio_features'])"
   ]
  },
  {
   "cell_type": "code",
   "execution_count": 61,
   "id": "6a803f09",
   "metadata": {},
   "outputs": [
    {
     "data": {
      "text/html": [
       "<div>\n",
       "<style scoped>\n",
       "    .dataframe tbody tr th:only-of-type {\n",
       "        vertical-align: middle;\n",
       "    }\n",
       "\n",
       "    .dataframe tbody tr th {\n",
       "        vertical-align: top;\n",
       "    }\n",
       "\n",
       "    .dataframe thead th {\n",
       "        text-align: right;\n",
       "    }\n",
       "</style>\n",
       "<table border=\"1\" class=\"dataframe\">\n",
       "  <thead>\n",
       "    <tr style=\"text-align: right;\">\n",
       "      <th></th>\n",
       "      <th>danceability</th>\n",
       "      <th>energy</th>\n",
       "      <th>key</th>\n",
       "      <th>loudness</th>\n",
       "      <th>mode</th>\n",
       "      <th>speechiness</th>\n",
       "      <th>acousticness</th>\n",
       "      <th>instrumentalness</th>\n",
       "      <th>liveness</th>\n",
       "      <th>valence</th>\n",
       "      <th>tempo</th>\n",
       "      <th>type</th>\n",
       "      <th>id</th>\n",
       "      <th>uri</th>\n",
       "      <th>track_href</th>\n",
       "      <th>analysis_url</th>\n",
       "      <th>duration_ms</th>\n",
       "      <th>time_signature</th>\n",
       "    </tr>\n",
       "  </thead>\n",
       "  <tbody>\n",
       "    <tr>\n",
       "      <th>0</th>\n",
       "      <td>0.373</td>\n",
       "      <td>0.569</td>\n",
       "      <td>10</td>\n",
       "      <td>-7.846</td>\n",
       "      <td>1</td>\n",
       "      <td>0.0515</td>\n",
       "      <td>0.20500</td>\n",
       "      <td>0.000042</td>\n",
       "      <td>0.377</td>\n",
       "      <td>0.274</td>\n",
       "      <td>89.918</td>\n",
       "      <td>audio_features</td>\n",
       "      <td>5tVmNtMvCCABF6u2IyLLjX</td>\n",
       "      <td>spotify:track:5tVmNtMvCCABF6u2IyLLjX</td>\n",
       "      <td>https://api.spotify.com/v1/tracks/5tVmNtMvCCAB...</td>\n",
       "      <td>https://api.spotify.com/v1/audio-analysis/5tVm...</td>\n",
       "      <td>256547</td>\n",
       "      <td>4</td>\n",
       "    </tr>\n",
       "    <tr>\n",
       "      <th>1</th>\n",
       "      <td>0.707</td>\n",
       "      <td>0.462</td>\n",
       "      <td>1</td>\n",
       "      <td>-6.696</td>\n",
       "      <td>1</td>\n",
       "      <td>0.1170</td>\n",
       "      <td>0.07320</td>\n",
       "      <td>0.000000</td>\n",
       "      <td>0.199</td>\n",
       "      <td>0.547</td>\n",
       "      <td>83.994</td>\n",
       "      <td>audio_features</td>\n",
       "      <td>7hBRNyuEkGR4qj5nTDGTry</td>\n",
       "      <td>spotify:track:7hBRNyuEkGR4qj5nTDGTry</td>\n",
       "      <td>https://api.spotify.com/v1/tracks/7hBRNyuEkGR4...</td>\n",
       "      <td>https://api.spotify.com/v1/audio-analysis/7hBR...</td>\n",
       "      <td>223948</td>\n",
       "      <td>4</td>\n",
       "    </tr>\n",
       "    <tr>\n",
       "      <th>2</th>\n",
       "      <td>0.626</td>\n",
       "      <td>0.639</td>\n",
       "      <td>10</td>\n",
       "      <td>-5.620</td>\n",
       "      <td>1</td>\n",
       "      <td>0.0850</td>\n",
       "      <td>0.04650</td>\n",
       "      <td>0.000000</td>\n",
       "      <td>0.161</td>\n",
       "      <td>0.638</td>\n",
       "      <td>144.009</td>\n",
       "      <td>audio_features</td>\n",
       "      <td>17FK4etx1u2NK60cptINMS</td>\n",
       "      <td>spotify:track:17FK4etx1u2NK60cptINMS</td>\n",
       "      <td>https://api.spotify.com/v1/tracks/17FK4etx1u2N...</td>\n",
       "      <td>https://api.spotify.com/v1/audio-analysis/17FK...</td>\n",
       "      <td>212783</td>\n",
       "      <td>4</td>\n",
       "    </tr>\n",
       "    <tr>\n",
       "      <th>3</th>\n",
       "      <td>0.629</td>\n",
       "      <td>0.583</td>\n",
       "      <td>2</td>\n",
       "      <td>-6.274</td>\n",
       "      <td>1</td>\n",
       "      <td>0.0415</td>\n",
       "      <td>0.14200</td>\n",
       "      <td>0.000000</td>\n",
       "      <td>0.118</td>\n",
       "      <td>0.492</td>\n",
       "      <td>147.036</td>\n",
       "      <td>audio_features</td>\n",
       "      <td>61vlvG3pr4djrXPtHPdXII</td>\n",
       "      <td>spotify:track:61vlvG3pr4djrXPtHPdXII</td>\n",
       "      <td>https://api.spotify.com/v1/tracks/61vlvG3pr4dj...</td>\n",
       "      <td>https://api.spotify.com/v1/audio-analysis/61vl...</td>\n",
       "      <td>250839</td>\n",
       "      <td>4</td>\n",
       "    </tr>\n",
       "    <tr>\n",
       "      <th>4</th>\n",
       "      <td>0.451</td>\n",
       "      <td>0.661</td>\n",
       "      <td>10</td>\n",
       "      <td>-6.961</td>\n",
       "      <td>0</td>\n",
       "      <td>0.0976</td>\n",
       "      <td>0.00321</td>\n",
       "      <td>0.000000</td>\n",
       "      <td>0.108</td>\n",
       "      <td>0.444</td>\n",
       "      <td>180.133</td>\n",
       "      <td>audio_features</td>\n",
       "      <td>4h1VLpsN8tl5J1c8nsrUCa</td>\n",
       "      <td>spotify:track:4h1VLpsN8tl5J1c8nsrUCa</td>\n",
       "      <td>https://api.spotify.com/v1/tracks/4h1VLpsN8tl5...</td>\n",
       "      <td>https://api.spotify.com/v1/audio-analysis/4h1V...</td>\n",
       "      <td>226336</td>\n",
       "      <td>4</td>\n",
       "    </tr>\n",
       "    <tr>\n",
       "      <th>5</th>\n",
       "      <td>0.431</td>\n",
       "      <td>0.190</td>\n",
       "      <td>9</td>\n",
       "      <td>-9.362</td>\n",
       "      <td>1</td>\n",
       "      <td>0.0371</td>\n",
       "      <td>0.85900</td>\n",
       "      <td>0.000000</td>\n",
       "      <td>0.100</td>\n",
       "      <td>0.128</td>\n",
       "      <td>76.925</td>\n",
       "      <td>audio_features</td>\n",
       "      <td>5MKfN1QC8ZWKeQGDFJSxaq</td>\n",
       "      <td>spotify:track:5MKfN1QC8ZWKeQGDFJSxaq</td>\n",
       "      <td>https://api.spotify.com/v1/tracks/5MKfN1QC8ZWK...</td>\n",
       "      <td>https://api.spotify.com/v1/audio-analysis/5MKf...</td>\n",
       "      <td>223201</td>\n",
       "      <td>4</td>\n",
       "    </tr>\n",
       "    <tr>\n",
       "      <th>6</th>\n",
       "      <td>0.646</td>\n",
       "      <td>0.626</td>\n",
       "      <td>5</td>\n",
       "      <td>-6.351</td>\n",
       "      <td>1</td>\n",
       "      <td>0.0729</td>\n",
       "      <td>0.01670</td>\n",
       "      <td>0.000009</td>\n",
       "      <td>0.112</td>\n",
       "      <td>0.372</td>\n",
       "      <td>83.981</td>\n",
       "      <td>audio_features</td>\n",
       "      <td>3HYgLawcb8IUGHHlHUQffN</td>\n",
       "      <td>spotify:track:3HYgLawcb8IUGHHlHUQffN</td>\n",
       "      <td>https://api.spotify.com/v1/tracks/3HYgLawcb8IU...</td>\n",
       "      <td>https://api.spotify.com/v1/audio-analysis/3HYg...</td>\n",
       "      <td>187263</td>\n",
       "      <td>4</td>\n",
       "    </tr>\n",
       "    <tr>\n",
       "      <th>7</th>\n",
       "      <td>0.528</td>\n",
       "      <td>0.727</td>\n",
       "      <td>6</td>\n",
       "      <td>-5.739</td>\n",
       "      <td>1</td>\n",
       "      <td>0.1790</td>\n",
       "      <td>0.05570</td>\n",
       "      <td>0.000000</td>\n",
       "      <td>0.176</td>\n",
       "      <td>0.212</td>\n",
       "      <td>155.927</td>\n",
       "      <td>audio_features</td>\n",
       "      <td>3VygfAvvgVaJUeaBUSzlZu</td>\n",
       "      <td>spotify:track:3VygfAvvgVaJUeaBUSzlZu</td>\n",
       "      <td>https://api.spotify.com/v1/tracks/3VygfAvvgVaJ...</td>\n",
       "      <td>https://api.spotify.com/v1/audio-analysis/3Vyg...</td>\n",
       "      <td>245270</td>\n",
       "      <td>4</td>\n",
       "    </tr>\n",
       "    <tr>\n",
       "      <th>8</th>\n",
       "      <td>0.590</td>\n",
       "      <td>0.682</td>\n",
       "      <td>0</td>\n",
       "      <td>-7.223</td>\n",
       "      <td>1</td>\n",
       "      <td>0.0564</td>\n",
       "      <td>0.01980</td>\n",
       "      <td>0.000000</td>\n",
       "      <td>0.178</td>\n",
       "      <td>0.665</td>\n",
       "      <td>125.055</td>\n",
       "      <td>audio_features</td>\n",
       "      <td>4Z84bBOAu0dLVd2WimB3re</td>\n",
       "      <td>spotify:track:4Z84bBOAu0dLVd2WimB3re</td>\n",
       "      <td>https://api.spotify.com/v1/tracks/4Z84bBOAu0dL...</td>\n",
       "      <td>https://api.spotify.com/v1/audio-analysis/4Z84...</td>\n",
       "      <td>198572</td>\n",
       "      <td>4</td>\n",
       "    </tr>\n",
       "    <tr>\n",
       "      <th>9</th>\n",
       "      <td>0.284</td>\n",
       "      <td>0.609</td>\n",
       "      <td>3</td>\n",
       "      <td>-6.033</td>\n",
       "      <td>1</td>\n",
       "      <td>0.1230</td>\n",
       "      <td>0.04380</td>\n",
       "      <td>0.000000</td>\n",
       "      <td>0.177</td>\n",
       "      <td>0.521</td>\n",
       "      <td>85.386</td>\n",
       "      <td>audio_features</td>\n",
       "      <td>04gQHzS8FLPoNdnRKw4jDJ</td>\n",
       "      <td>spotify:track:04gQHzS8FLPoNdnRKw4jDJ</td>\n",
       "      <td>https://api.spotify.com/v1/tracks/04gQHzS8FLPo...</td>\n",
       "      <td>https://api.spotify.com/v1/audio-analysis/04gQ...</td>\n",
       "      <td>196763</td>\n",
       "      <td>4</td>\n",
       "    </tr>\n",
       "    <tr>\n",
       "      <th>10</th>\n",
       "      <td>0.633</td>\n",
       "      <td>0.217</td>\n",
       "      <td>5</td>\n",
       "      <td>-9.717</td>\n",
       "      <td>1</td>\n",
       "      <td>0.0450</td>\n",
       "      <td>0.78900</td>\n",
       "      <td>0.000000</td>\n",
       "      <td>0.293</td>\n",
       "      <td>0.546</td>\n",
       "      <td>94.130</td>\n",
       "      <td>audio_features</td>\n",
       "      <td>4Dd0v2LBhMpqOwhmeU4yBJ</td>\n",
       "      <td>spotify:track:4Dd0v2LBhMpqOwhmeU4yBJ</td>\n",
       "      <td>https://api.spotify.com/v1/tracks/4Dd0v2LBhMpq...</td>\n",
       "      <td>https://api.spotify.com/v1/audio-analysis/4Dd0...</td>\n",
       "      <td>168126</td>\n",
       "      <td>4</td>\n",
       "    </tr>\n",
       "    <tr>\n",
       "      <th>11</th>\n",
       "      <td>0.539</td>\n",
       "      <td>0.517</td>\n",
       "      <td>5</td>\n",
       "      <td>-6.999</td>\n",
       "      <td>1</td>\n",
       "      <td>0.0272</td>\n",
       "      <td>0.09560</td>\n",
       "      <td>0.000000</td>\n",
       "      <td>0.111</td>\n",
       "      <td>0.408</td>\n",
       "      <td>82.987</td>\n",
       "      <td>audio_features</td>\n",
       "      <td>392snxgncTS2SKFgz64Lj3</td>\n",
       "      <td>spotify:track:392snxgncTS2SKFgz64Lj3</td>\n",
       "      <td>https://api.spotify.com/v1/tracks/392snxgncTS2...</td>\n",
       "      <td>https://api.spotify.com/v1/audio-analysis/392s...</td>\n",
       "      <td>277711</td>\n",
       "      <td>4</td>\n",
       "    </tr>\n",
       "  </tbody>\n",
       "</table>\n",
       "</div>"
      ],
      "text/plain": [
       "    danceability  energy  key  loudness  mode  speechiness  acousticness  \\\n",
       "0          0.373   0.569   10    -7.846     1       0.0515       0.20500   \n",
       "1          0.707   0.462    1    -6.696     1       0.1170       0.07320   \n",
       "2          0.626   0.639   10    -5.620     1       0.0850       0.04650   \n",
       "3          0.629   0.583    2    -6.274     1       0.0415       0.14200   \n",
       "4          0.451   0.661   10    -6.961     0       0.0976       0.00321   \n",
       "5          0.431   0.190    9    -9.362     1       0.0371       0.85900   \n",
       "6          0.646   0.626    5    -6.351     1       0.0729       0.01670   \n",
       "7          0.528   0.727    6    -5.739     1       0.1790       0.05570   \n",
       "8          0.590   0.682    0    -7.223     1       0.0564       0.01980   \n",
       "9          0.284   0.609    3    -6.033     1       0.1230       0.04380   \n",
       "10         0.633   0.217    5    -9.717     1       0.0450       0.78900   \n",
       "11         0.539   0.517    5    -6.999     1       0.0272       0.09560   \n",
       "\n",
       "    instrumentalness  liveness  valence    tempo            type  \\\n",
       "0           0.000042     0.377    0.274   89.918  audio_features   \n",
       "1           0.000000     0.199    0.547   83.994  audio_features   \n",
       "2           0.000000     0.161    0.638  144.009  audio_features   \n",
       "3           0.000000     0.118    0.492  147.036  audio_features   \n",
       "4           0.000000     0.108    0.444  180.133  audio_features   \n",
       "5           0.000000     0.100    0.128   76.925  audio_features   \n",
       "6           0.000009     0.112    0.372   83.981  audio_features   \n",
       "7           0.000000     0.176    0.212  155.927  audio_features   \n",
       "8           0.000000     0.178    0.665  125.055  audio_features   \n",
       "9           0.000000     0.177    0.521   85.386  audio_features   \n",
       "10          0.000000     0.293    0.546   94.130  audio_features   \n",
       "11          0.000000     0.111    0.408   82.987  audio_features   \n",
       "\n",
       "                        id                                   uri  \\\n",
       "0   5tVmNtMvCCABF6u2IyLLjX  spotify:track:5tVmNtMvCCABF6u2IyLLjX   \n",
       "1   7hBRNyuEkGR4qj5nTDGTry  spotify:track:7hBRNyuEkGR4qj5nTDGTry   \n",
       "2   17FK4etx1u2NK60cptINMS  spotify:track:17FK4etx1u2NK60cptINMS   \n",
       "3   61vlvG3pr4djrXPtHPdXII  spotify:track:61vlvG3pr4djrXPtHPdXII   \n",
       "4   4h1VLpsN8tl5J1c8nsrUCa  spotify:track:4h1VLpsN8tl5J1c8nsrUCa   \n",
       "5   5MKfN1QC8ZWKeQGDFJSxaq  spotify:track:5MKfN1QC8ZWKeQGDFJSxaq   \n",
       "6   3HYgLawcb8IUGHHlHUQffN  spotify:track:3HYgLawcb8IUGHHlHUQffN   \n",
       "7   3VygfAvvgVaJUeaBUSzlZu  spotify:track:3VygfAvvgVaJUeaBUSzlZu   \n",
       "8   4Z84bBOAu0dLVd2WimB3re  spotify:track:4Z84bBOAu0dLVd2WimB3re   \n",
       "9   04gQHzS8FLPoNdnRKw4jDJ  spotify:track:04gQHzS8FLPoNdnRKw4jDJ   \n",
       "10  4Dd0v2LBhMpqOwhmeU4yBJ  spotify:track:4Dd0v2LBhMpqOwhmeU4yBJ   \n",
       "11  392snxgncTS2SKFgz64Lj3  spotify:track:392snxgncTS2SKFgz64Lj3   \n",
       "\n",
       "                                           track_href  \\\n",
       "0   https://api.spotify.com/v1/tracks/5tVmNtMvCCAB...   \n",
       "1   https://api.spotify.com/v1/tracks/7hBRNyuEkGR4...   \n",
       "2   https://api.spotify.com/v1/tracks/17FK4etx1u2N...   \n",
       "3   https://api.spotify.com/v1/tracks/61vlvG3pr4dj...   \n",
       "4   https://api.spotify.com/v1/tracks/4h1VLpsN8tl5...   \n",
       "5   https://api.spotify.com/v1/tracks/5MKfN1QC8ZWK...   \n",
       "6   https://api.spotify.com/v1/tracks/3HYgLawcb8IU...   \n",
       "7   https://api.spotify.com/v1/tracks/3VygfAvvgVaJ...   \n",
       "8   https://api.spotify.com/v1/tracks/4Z84bBOAu0dL...   \n",
       "9   https://api.spotify.com/v1/tracks/04gQHzS8FLPo...   \n",
       "10  https://api.spotify.com/v1/tracks/4Dd0v2LBhMpq...   \n",
       "11  https://api.spotify.com/v1/tracks/392snxgncTS2...   \n",
       "\n",
       "                                         analysis_url  duration_ms  \\\n",
       "0   https://api.spotify.com/v1/audio-analysis/5tVm...       256547   \n",
       "1   https://api.spotify.com/v1/audio-analysis/7hBR...       223948   \n",
       "2   https://api.spotify.com/v1/audio-analysis/17FK...       212783   \n",
       "3   https://api.spotify.com/v1/audio-analysis/61vl...       250839   \n",
       "4   https://api.spotify.com/v1/audio-analysis/4h1V...       226336   \n",
       "5   https://api.spotify.com/v1/audio-analysis/5MKf...       223201   \n",
       "6   https://api.spotify.com/v1/audio-analysis/3HYg...       187263   \n",
       "7   https://api.spotify.com/v1/audio-analysis/3Vyg...       245270   \n",
       "8   https://api.spotify.com/v1/audio-analysis/4Z84...       198572   \n",
       "9   https://api.spotify.com/v1/audio-analysis/04gQ...       196763   \n",
       "10  https://api.spotify.com/v1/audio-analysis/4Dd0...       168126   \n",
       "11  https://api.spotify.com/v1/audio-analysis/392s...       277711   \n",
       "\n",
       "    time_signature  \n",
       "0                4  \n",
       "1                4  \n",
       "2                4  \n",
       "3                4  \n",
       "4                4  \n",
       "5                4  \n",
       "6                4  \n",
       "7                4  \n",
       "8                4  \n",
       "9                4  \n",
       "10               4  \n",
       "11               4  "
      ]
     },
     "execution_count": 61,
     "metadata": {},
     "output_type": "execute_result"
    }
   ],
   "source": [
    "Neo_df"
   ]
  },
  {
   "cell_type": "code",
   "execution_count": 62,
   "id": "49199213",
   "metadata": {},
   "outputs": [],
   "source": [
    "PFTW_df['album'] = ['PFTW'] * len(PFTW_df.index)"
   ]
  },
  {
   "cell_type": "code",
   "execution_count": 63,
   "id": "1f7baecd",
   "metadata": {},
   "outputs": [],
   "source": [
    "Neo_df['album'] = ['Neotheater'] * len(Neo_df.index)"
   ]
  },
  {
   "cell_type": "code",
   "execution_count": 64,
   "id": "9754bc1c",
   "metadata": {},
   "outputs": [],
   "source": [
    "audio_features = pd.concat([PFTW_df, Neo_df])"
   ]
  },
  {
   "cell_type": "code",
   "execution_count": 65,
   "id": "6aca53f9",
   "metadata": {},
   "outputs": [],
   "source": [
    "audio_features.to_csv('audio_features_Analysis.csv')"
   ]
  }
 ],
 "metadata": {
  "kernelspec": {
   "display_name": "Python 3 (ipykernel)",
   "language": "python",
   "name": "python3"
  },
  "language_info": {
   "codemirror_mode": {
    "name": "ipython",
    "version": 3
   },
   "file_extension": ".py",
   "mimetype": "text/x-python",
   "name": "python",
   "nbconvert_exporter": "python",
   "pygments_lexer": "ipython3",
   "version": "3.11.4"
  }
 },
 "nbformat": 4,
 "nbformat_minor": 5
}
