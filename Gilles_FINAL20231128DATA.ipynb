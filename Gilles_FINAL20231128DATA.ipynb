{
 "cells": [
  {
   "cell_type": "markdown",
   "id": "64a9c097",
   "metadata": {},
   "source": [
    "### Data Gathering ###\n",
    "First, I imported the correct installations to run data scraping on a website. This website has the Animal Crossing villager rankings of all the villagers, voted on by fans, that is updated every week. For this, I created a csv file to analyze the rankings for only November. "
   ]
  },
  {
   "cell_type": "code",
   "execution_count": 117,
   "id": "15b30dfb",
   "metadata": {},
   "outputs": [],
   "source": [
    "import pandas as pd\n",
    "import requests\n",
    "from bs4 import BeautifulSoup"
   ]
  },
  {
   "cell_type": "markdown",
   "id": "84f6dd7b",
   "metadata": {},
   "source": [
    "Now, with the website URL, I inspected the code to figure out how the columns were organized, and found the class for the name of the villager, and the ranking, and that was all I needed from there."
   ]
  },
  {
   "cell_type": "code",
   "execution_count": 118,
   "id": "709e787c",
   "metadata": {},
   "outputs": [],
   "source": [
    "vil_response = requests.get('https://www.animalcrossingportal.com/tier-lists/new-horizons/all-villagers/')"
   ]
  },
  {
   "cell_type": "code",
   "execution_count": 119,
   "id": "04e6e1ce",
   "metadata": {},
   "outputs": [],
   "source": [
    "vil_soup = BeautifulSoup(vil_response.text, 'html.parser')"
   ]
  },
  {
   "cell_type": "markdown",
   "id": "032a0ef5",
   "metadata": {},
   "source": [
    "Then, I game them both names, and also selecting out just the text within the code."
   ]
  },
  {
   "cell_type": "code",
   "execution_count": 120,
   "id": "c47cea5f",
   "metadata": {},
   "outputs": [],
   "source": [
    "acnh_names_ranked = [x.text for x in vil_soup.find_all(attrs = {'class': 'c-candidate-name'})]"
   ]
  },
  {
   "cell_type": "code",
   "execution_count": 121,
   "id": "f712b613",
   "metadata": {
    "scrolled": true
   },
   "outputs": [],
   "source": [
    "acnh_numbers_ranked = [x.text for x in vil_soup.find_all(attrs = {'class': 'c-candidate-rank'})]"
   ]
  },
  {
   "cell_type": "markdown",
   "id": "aec7869b",
   "metadata": {},
   "source": [
    "I then made a dataframe starting with the names, and had to change the column name because it defaulted to naming it \"0\" which I did not want."
   ]
  },
  {
   "cell_type": "code",
   "execution_count": 122,
   "id": "70503d9a",
   "metadata": {},
   "outputs": [],
   "source": [
    "name_pd = pd.DataFrame(acnh_names_ranked)"
   ]
  },
  {
   "cell_type": "code",
   "execution_count": 123,
   "id": "16347280",
   "metadata": {},
   "outputs": [],
   "source": [
    "name_pd.rename(columns={name_pd.columns[0]: \"Name\"}, inplace=True)"
   ]
  },
  {
   "cell_type": "markdown",
   "id": "a5b12f9e",
   "metadata": {},
   "source": [
    "Now I add a new column to show the ranking of the characters."
   ]
  },
  {
   "cell_type": "code",
   "execution_count": 124,
   "id": "c88faa34",
   "metadata": {},
   "outputs": [],
   "source": [
    "name_pd['Rank'] = acnh_numbers_ranked"
   ]
  },
  {
   "cell_type": "code",
   "execution_count": 125,
   "id": "e1ee5575",
   "metadata": {
    "scrolled": true
   },
   "outputs": [
    {
     "data": {
      "text/html": [
       "<div>\n",
       "<style scoped>\n",
       "    .dataframe tbody tr th:only-of-type {\n",
       "        vertical-align: middle;\n",
       "    }\n",
       "\n",
       "    .dataframe tbody tr th {\n",
       "        vertical-align: top;\n",
       "    }\n",
       "\n",
       "    .dataframe thead th {\n",
       "        text-align: right;\n",
       "    }\n",
       "</style>\n",
       "<table border=\"1\" class=\"dataframe\">\n",
       "  <thead>\n",
       "    <tr style=\"text-align: right;\">\n",
       "      <th></th>\n",
       "      <th>Name</th>\n",
       "      <th>Rank</th>\n",
       "    </tr>\n",
       "  </thead>\n",
       "  <tbody>\n",
       "    <tr>\n",
       "      <th>0</th>\n",
       "      <td>Wade</td>\n",
       "      <td>1</td>\n",
       "    </tr>\n",
       "    <tr>\n",
       "      <th>1</th>\n",
       "      <td>Shino</td>\n",
       "      <td>2</td>\n",
       "    </tr>\n",
       "    <tr>\n",
       "      <th>2</th>\n",
       "      <td>Bob</td>\n",
       "      <td>3</td>\n",
       "    </tr>\n",
       "    <tr>\n",
       "      <th>3</th>\n",
       "      <td>Maple</td>\n",
       "      <td>4</td>\n",
       "    </tr>\n",
       "    <tr>\n",
       "      <th>4</th>\n",
       "      <td>Raymond</td>\n",
       "      <td>5</td>\n",
       "    </tr>\n",
       "  </tbody>\n",
       "</table>\n",
       "</div>"
      ],
      "text/plain": [
       "      Name Rank\n",
       "0     Wade    1\n",
       "1    Shino    2\n",
       "2      Bob    3\n",
       "3    Maple    4\n",
       "4  Raymond    5"
      ]
     },
     "execution_count": 125,
     "metadata": {},
     "output_type": "execute_result"
    }
   ],
   "source": [
    "name_pd.head()"
   ]
  },
  {
   "cell_type": "markdown",
   "id": "33a3f6ce",
   "metadata": {},
   "source": [
    "And, I save it to a csv file so the data inside does not get changed."
   ]
  },
  {
   "cell_type": "code",
   "execution_count": 126,
   "id": "67b44fa9",
   "metadata": {},
   "outputs": [],
   "source": [
    "name_pd.to_csv('20231128ACNH_Rankings.csv')"
   ]
  },
  {
   "cell_type": "markdown",
   "id": "ea685d6d",
   "metadata": {},
   "source": [
    "For all the characters' information, I was able to find a excel sheet that had all the info I needed, so I saved it as a csv as well."
   ]
  },
  {
   "cell_type": "code",
   "execution_count": 128,
   "id": "f5b9d42c",
   "metadata": {},
   "outputs": [
    {
     "data": {
      "text/html": [
       "<div>\n",
       "<style scoped>\n",
       "    .dataframe tbody tr th:only-of-type {\n",
       "        vertical-align: middle;\n",
       "    }\n",
       "\n",
       "    .dataframe tbody tr th {\n",
       "        vertical-align: top;\n",
       "    }\n",
       "\n",
       "    .dataframe thead th {\n",
       "        text-align: right;\n",
       "    }\n",
       "</style>\n",
       "<table border=\"1\" class=\"dataframe\">\n",
       "  <thead>\n",
       "    <tr style=\"text-align: right;\">\n",
       "      <th></th>\n",
       "      <th>Name</th>\n",
       "      <th>Icon Image</th>\n",
       "      <th>Photo Image</th>\n",
       "      <th>House Image</th>\n",
       "      <th>Species</th>\n",
       "      <th>Gender</th>\n",
       "      <th>Personality</th>\n",
       "      <th>Subtype</th>\n",
       "      <th>Hobby</th>\n",
       "      <th>Birthday</th>\n",
       "      <th>...</th>\n",
       "      <th>Flooring</th>\n",
       "      <th>Furniture List</th>\n",
       "      <th>Furniture Name List</th>\n",
       "      <th>DIY Workbench</th>\n",
       "      <th>Kitchen Equipment</th>\n",
       "      <th>Version Added</th>\n",
       "      <th>Name Color</th>\n",
       "      <th>Bubble Color</th>\n",
       "      <th>Filename</th>\n",
       "      <th>Unique Entry ID</th>\n",
       "    </tr>\n",
       "  </thead>\n",
       "  <tbody>\n",
       "    <tr>\n",
       "      <th>0</th>\n",
       "      <td>Ace</td>\n",
       "      <td>NaN</td>\n",
       "      <td>NaN</td>\n",
       "      <td>NaN</td>\n",
       "      <td>Bird</td>\n",
       "      <td>Male</td>\n",
       "      <td>Jock</td>\n",
       "      <td>A</td>\n",
       "      <td>Nature</td>\n",
       "      <td>8/11</td>\n",
       "      <td>...</td>\n",
       "      <td>green-paint flooring</td>\n",
       "      <td>1051;2554;2606;3122;4338;12309;12780;13114;131...</td>\n",
       "      <td>water bird;double sofa;ranch bed;mini DIY work...</td>\n",
       "      <td>3122,3_0</td>\n",
       "      <td>14054,5_0</td>\n",
       "      <td>2.0.0</td>\n",
       "      <td>#fffce9</td>\n",
       "      <td>#0961f6</td>\n",
       "      <td>brd09</td>\n",
       "      <td>cBJxF2eoM4Cymei82</td>\n",
       "    </tr>\n",
       "    <tr>\n",
       "      <th>1</th>\n",
       "      <td>Admiral</td>\n",
       "      <td>NaN</td>\n",
       "      <td>NaN</td>\n",
       "      <td>NaN</td>\n",
       "      <td>Bird</td>\n",
       "      <td>Male</td>\n",
       "      <td>Cranky</td>\n",
       "      <td>A</td>\n",
       "      <td>Nature</td>\n",
       "      <td>1/27</td>\n",
       "      <td>...</td>\n",
       "      <td>tatami</td>\n",
       "      <td>717;787;1849;2736;3438;3449;3622;3802;4029;410...</td>\n",
       "      <td>clay furnace;tape deck;kotatsu;retro fan;woode...</td>\n",
       "      <td>3122,2_0</td>\n",
       "      <td>717</td>\n",
       "      <td>1.0.0</td>\n",
       "      <td>#fffce9</td>\n",
       "      <td>#0ca54a</td>\n",
       "      <td>brd06</td>\n",
       "      <td>B3RyfNEqwGmcccRC3</td>\n",
       "    </tr>\n",
       "    <tr>\n",
       "      <th>2</th>\n",
       "      <td>Agent S</td>\n",
       "      <td>NaN</td>\n",
       "      <td>NaN</td>\n",
       "      <td>NaN</td>\n",
       "      <td>Squirrel</td>\n",
       "      <td>Female</td>\n",
       "      <td>Peppy</td>\n",
       "      <td>B</td>\n",
       "      <td>Fitness</td>\n",
       "      <td>7/2</td>\n",
       "      <td>...</td>\n",
       "      <td>colorful tile flooring</td>\n",
       "      <td>290;1708;2560;3449;3468;3971;4080;4753;4756;71...</td>\n",
       "      <td>treadmill;cassette player;wooden chest;wooden ...</td>\n",
       "      <td>3995,4_0</td>\n",
       "      <td>3616,2_0</td>\n",
       "      <td>1.0.0</td>\n",
       "      <td>#fffce9</td>\n",
       "      <td>#0961f6</td>\n",
       "      <td>squ05</td>\n",
       "      <td>SGMdki6dzpDZyXAw5</td>\n",
       "    </tr>\n",
       "    <tr>\n",
       "      <th>3</th>\n",
       "      <td>Agnes</td>\n",
       "      <td>NaN</td>\n",
       "      <td>NaN</td>\n",
       "      <td>NaN</td>\n",
       "      <td>Pig</td>\n",
       "      <td>Female</td>\n",
       "      <td>Big Sister</td>\n",
       "      <td>A</td>\n",
       "      <td>Play</td>\n",
       "      <td>4/21</td>\n",
       "      <td>...</td>\n",
       "      <td>arabesque flooring</td>\n",
       "      <td>896;3428;3773;3951;3958;4027;4129;7136;7235;72...</td>\n",
       "      <td>cat tower;wall-mounted TV (50 in.);terrarium;a...</td>\n",
       "      <td>3943,2_0</td>\n",
       "      <td>3616,5_0</td>\n",
       "      <td>1.0.0</td>\n",
       "      <td>#fffce9</td>\n",
       "      <td>#515151</td>\n",
       "      <td>pig17</td>\n",
       "      <td>jzWCiDPm9MqtCfecP</td>\n",
       "    </tr>\n",
       "    <tr>\n",
       "      <th>4</th>\n",
       "      <td>Al</td>\n",
       "      <td>NaN</td>\n",
       "      <td>NaN</td>\n",
       "      <td>NaN</td>\n",
       "      <td>Gorilla</td>\n",
       "      <td>Male</td>\n",
       "      <td>Lazy</td>\n",
       "      <td>B</td>\n",
       "      <td>Fitness</td>\n",
       "      <td>10/18</td>\n",
       "      <td>...</td>\n",
       "      <td>green rubber flooring</td>\n",
       "      <td>833;1452;3307;3697;3946;3960;4013;4078;4116;78...</td>\n",
       "      <td>upright locker;weight bench;digital scale;port...</td>\n",
       "      <td>3943,3_0</td>\n",
       "      <td>3251,4_0</td>\n",
       "      <td>1.0.0</td>\n",
       "      <td>#fffad4</td>\n",
       "      <td>#798040</td>\n",
       "      <td>gor08</td>\n",
       "      <td>LBifxETQJGEaLhBjC</td>\n",
       "    </tr>\n",
       "  </tbody>\n",
       "</table>\n",
       "<p>5 rows × 30 columns</p>\n",
       "</div>"
      ],
      "text/plain": [
       "      Name  Icon Image  Photo Image  House Image   Species  Gender  \\\n",
       "0      Ace         NaN          NaN          NaN      Bird    Male   \n",
       "1  Admiral         NaN          NaN          NaN      Bird    Male   \n",
       "2  Agent S         NaN          NaN          NaN  Squirrel  Female   \n",
       "3    Agnes         NaN          NaN          NaN       Pig  Female   \n",
       "4       Al         NaN          NaN          NaN   Gorilla    Male   \n",
       "\n",
       "  Personality Subtype    Hobby Birthday  ...                Flooring  \\\n",
       "0        Jock       A   Nature     8/11  ...    green-paint flooring   \n",
       "1      Cranky       A   Nature     1/27  ...                  tatami   \n",
       "2       Peppy       B  Fitness      7/2  ...  colorful tile flooring   \n",
       "3  Big Sister       A     Play     4/21  ...      arabesque flooring   \n",
       "4        Lazy       B  Fitness    10/18  ...   green rubber flooring   \n",
       "\n",
       "                                      Furniture List  \\\n",
       "0  1051;2554;2606;3122;4338;12309;12780;13114;131...   \n",
       "1  717;787;1849;2736;3438;3449;3622;3802;4029;410...   \n",
       "2  290;1708;2560;3449;3468;3971;4080;4753;4756;71...   \n",
       "3  896;3428;3773;3951;3958;4027;4129;7136;7235;72...   \n",
       "4  833;1452;3307;3697;3946;3960;4013;4078;4116;78...   \n",
       "\n",
       "                                 Furniture Name List DIY Workbench  \\\n",
       "0  water bird;double sofa;ranch bed;mini DIY work...      3122,3_0   \n",
       "1  clay furnace;tape deck;kotatsu;retro fan;woode...      3122,2_0   \n",
       "2  treadmill;cassette player;wooden chest;wooden ...      3995,4_0   \n",
       "3  cat tower;wall-mounted TV (50 in.);terrarium;a...      3943,2_0   \n",
       "4  upright locker;weight bench;digital scale;port...      3943,3_0   \n",
       "\n",
       "  Kitchen Equipment Version Added Name Color  Bubble Color Filename  \\\n",
       "0         14054,5_0         2.0.0    #fffce9       #0961f6    brd09   \n",
       "1               717         1.0.0    #fffce9       #0ca54a    brd06   \n",
       "2          3616,2_0         1.0.0    #fffce9       #0961f6    squ05   \n",
       "3          3616,5_0         1.0.0    #fffce9       #515151    pig17   \n",
       "4          3251,4_0         1.0.0    #fffad4       #798040    gor08   \n",
       "\n",
       "     Unique Entry ID  \n",
       "0  cBJxF2eoM4Cymei82  \n",
       "1  B3RyfNEqwGmcccRC3  \n",
       "2  SGMdki6dzpDZyXAw5  \n",
       "3  jzWCiDPm9MqtCfecP  \n",
       "4  LBifxETQJGEaLhBjC  \n",
       "\n",
       "[5 rows x 30 columns]"
      ]
     },
     "execution_count": 128,
     "metadata": {},
     "output_type": "execute_result"
    }
   ],
   "source": [
    "vil_all = pd.read_csv('ACNH_Villager_List.csv')\n",
    "vil_all.head()"
   ]
  }
 ],
 "metadata": {
  "kernelspec": {
   "display_name": "Python 3 (ipykernel)",
   "language": "python",
   "name": "python3"
  },
  "language_info": {
   "codemirror_mode": {
    "name": "ipython",
    "version": 3
   },
   "file_extension": ".py",
   "mimetype": "text/x-python",
   "name": "python",
   "nbconvert_exporter": "python",
   "pygments_lexer": "ipython3",
   "version": "3.11.4"
  }
 },
 "nbformat": 4,
 "nbformat_minor": 5
}
